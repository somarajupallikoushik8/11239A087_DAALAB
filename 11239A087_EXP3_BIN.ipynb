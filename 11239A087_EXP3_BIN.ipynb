{
  "nbformat": 4,
  "nbformat_minor": 0,
  "metadata": {
    "colab": {
      "provenance": [],
      "authorship_tag": "ABX9TyPGkuXILq2UdS2jjQauzARV",
      "include_colab_link": true
    },
    "kernelspec": {
      "name": "python3",
      "display_name": "Python 3"
    },
    "language_info": {
      "name": "python"
    }
  },
  "cells": [
    {
      "cell_type": "markdown",
      "metadata": {
        "id": "view-in-github",
        "colab_type": "text"
      },
      "source": [
        "<a href=\"https://colab.research.google.com/github/somarajupallikoushik8/11239A087_DAALAB/blob/main/11239A087_EXP3_BIN.ipynb\" target=\"_parent\"><img src=\"https://colab.research.google.com/assets/colab-badge.svg\" alt=\"Open In Colab\"/></a>"
      ]
    },
    {
      "cell_type": "code",
      "execution_count": 1,
      "metadata": {
        "colab": {
          "base_uri": "https://localhost:8080/"
        },
        "id": "DzCiRq1Y6bH1",
        "outputId": "dcf6a989-324d-4c84-c8c6-ec2a431c1379"
      },
      "outputs": [
        {
          "output_type": "stream",
          "name": "stdout",
          "text": [
            "First Fit: [[2, 5, 1], [4, 3], [7], [8]]\n",
            "Best Fit: [[2, 5, 1], [4], [7, 3], [8]]\n",
            "First Fit Decreasing: [[8, 2], [7, 3], [5, 4, 1]]\n",
            "number of bins used in firstfit: 4\n",
            "number of bins used in bestfit: 4\n",
            "number of bins used in firstfit decreasing: 3\n"
          ]
        }
      ],
      "source": [
        "def first_fit(items, bin_capacity):\n",
        "    bins = []\n",
        "    for item in items:\n",
        "        placed = False\n",
        "        for bin in bins:\n",
        "            if sum(bin) + item <= bin_capacity:\n",
        "                bin.append(item)\n",
        "                placed = True\n",
        "                break\n",
        "        if not placed:\n",
        "            bins.append([item])\n",
        "    return bins\n",
        "def best_fit(items, bin_capacity):\n",
        "    bins = []\n",
        "    for item in items:\n",
        "        best_bin_index = -1\n",
        "        min_space_left = bin_capacity + 1\n",
        "\n",
        "        for i, bin in enumerate(bins):\n",
        "            space_left = bin_capacity - sum(bin)\n",
        "            if space_left >= item and space_left - item < min_space_left:\n",
        "                best_bin_index = i\n",
        "                min_space_left = space_left - item\n",
        "        if best_bin_index != -1:\n",
        "            bins[best_bin_index].append(item)\n",
        "        else:\n",
        "            bins.append([item])\n",
        "    return bins\n",
        "def first_fit_decreasing(items, bin_capacity):\n",
        "    sorted_items = sorted(items, reverse=True)\n",
        "    return first_fit(sorted_items, bin_capacity)\n",
        "items = [2,5,4,7,1,3,8]\n",
        "bin_capacity = 10\n",
        "print(\"First Fit:\", first_fit(items, bin_capacity))\n",
        "print(\"Best Fit:\", best_fit(items, bin_capacity))\n",
        "print(\"First Fit Decreasing:\", first_fit_decreasing(items, bin_capacity))\n",
        "print(\"number of bins used in firstfit:\",len(first_fit(items,bin_capacity)))\n",
        "print(\"number of bins used in bestfit:\",len(best_fit(items,bin_capacity)))\n",
        "print(\"number of bins used in firstfit decreasing:\",len(first_fit_decreasing(items,bin_capacity)))"
      ]
    }
  ]
}